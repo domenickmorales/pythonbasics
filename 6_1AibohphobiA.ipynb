{
  "nbformat": 4,
  "nbformat_minor": 0,
  "metadata": {
    "colab": {
      "name": "6.1AibohphobiA.ipynb",
      "provenance": [],
      "collapsed_sections": [],
      "authorship_tag": "ABX9TyORamJm+tP5YrZq2I9F6+EA",
      "include_colab_link": true
    },
    "kernelspec": {
      "name": "python3",
      "display_name": "Python 3"
    }
  },
  "cells": [
    {
      "cell_type": "markdown",
      "metadata": {
        "id": "view-in-github",
        "colab_type": "text"
      },
      "source": [
        "<a href=\"https://colab.research.google.com/github/domenickmorales/pythonbasics/blob/main/6_1AibohphobiA.ipynb\" target=\"_parent\"><img src=\"https://colab.research.google.com/assets/colab-badge.svg\" alt=\"Open In Colab\"/></a>"
      ]
    },
    {
      "cell_type": "code",
      "metadata": {
        "colab": {
          "base_uri": "https://localhost:8080/"
        },
        "id": "KkRFZ8AVY7zn",
        "outputId": "25a37539-8c9a-4ddd-e661-1568299ff685"
      },
      "source": [
        "myinput = input('Enter a string: ')\n",
        "mystring = []\n",
        "for i in myinput:\n",
        "  mystring.append(i)\n",
        "mystring"
      ],
      "execution_count": null,
      "outputs": [
        {
          "output_type": "stream",
          "text": [
            "Enter a string: calipso\n"
          ],
          "name": "stdout"
        },
        {
          "output_type": "execute_result",
          "data": {
            "text/plain": [
              "['c', 'a', 'l', 'i', 'p', 's', 'o']"
            ]
          },
          "metadata": {
            "tags": []
          },
          "execution_count": 36
        }
      ]
    },
    {
      "cell_type": "code",
      "metadata": {
        "colab": {
          "base_uri": "https://localhost:8080/"
        },
        "id": "hhV9JQM-ZQQq",
        "outputId": "f3b80d10-cb5c-4c55-a2d8-efa3f6ba1715"
      },
      "source": [
        "mypalin = []\n",
        "for i in range(-1,-len(mystring)-1,-1):\n",
        "  mypalin.append(mystring[i])\n",
        "mypalin "
      ],
      "execution_count": null,
      "outputs": [
        {
          "output_type": "execute_result",
          "data": {
            "text/plain": [
              "['o', 's', 'p', 'i', 'l', 'a', 'c']"
            ]
          },
          "metadata": {
            "tags": []
          },
          "execution_count": 37
        }
      ]
    },
    {
      "cell_type": "code",
      "metadata": {
        "id": "ZfSreV0hZQl9"
      },
      "source": [
        ""
      ],
      "execution_count": null,
      "outputs": []
    }
  ]
}