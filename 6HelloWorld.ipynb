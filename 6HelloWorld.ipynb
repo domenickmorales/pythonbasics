{
  "nbformat": 4,
  "nbformat_minor": 0,
  "metadata": {
    "colab": {
      "name": "6HelloWorld",
      "provenance": [],
      "collapsed_sections": [],
      "authorship_tag": "ABX9TyPPKcJsQfZcs+l10+TcOUky",
      "include_colab_link": true
    },
    "kernelspec": {
      "name": "python3",
      "display_name": "Python 3"
    }
  },
  "cells": [
    {
      "cell_type": "markdown",
      "metadata": {
        "id": "view-in-github",
        "colab_type": "text"
      },
      "source": [
        "<a href=\"https://colab.research.google.com/github/domenickmorales/pythonbasics/blob/main/6HelloWorld.ipynb\" target=\"_parent\"><img src=\"https://colab.research.google.com/assets/colab-badge.svg\" alt=\"Open In Colab\"/></a>"
      ]
    },
    {
      "cell_type": "code",
      "metadata": {
        "id": "B9I-F38UJFzd"
      },
      "source": [
        "mystr = 'hello world'"
      ],
      "execution_count": null,
      "outputs": []
    },
    {
      "cell_type": "code",
      "metadata": {
        "colab": {
          "base_uri": "https://localhost:8080/",
          "height": 36
        },
        "id": "LRrHX6PGJqdc",
        "outputId": "83a9e4d6-6d2b-4e0e-9122-5187b11157b8"
      },
      "source": [
        "#1\n",
        "ystr[:5]+'f'+mystr[5:]"
      ],
      "execution_count": null,
      "outputs": [
        {
          "output_type": "execute_result",
          "data": {
            "application/vnd.google.colaboratory.intrinsic+json": {
              "type": "string"
            },
            "text/plain": [
              "'hellof world'"
            ]
          },
          "metadata": {
            "tags": []
          },
          "execution_count": 10
        }
      ]
    },
    {
      "cell_type": "code",
      "metadata": {
        "colab": {
          "base_uri": "https://localhost:8080/",
          "height": 36
        },
        "id": "IbtUibzVJ89m",
        "outputId": "250a6cd7-ec5d-4098-dd90-fd7fb98ac49f"
      },
      "source": [
        "#2\n",
        "mystr[:4] + ' ' + mystr[4:]"
      ],
      "execution_count": null,
      "outputs": [
        {
          "output_type": "execute_result",
          "data": {
            "application/vnd.google.colaboratory.intrinsic+json": {
              "type": "string"
            },
            "text/plain": [
              "'hell o world'"
            ]
          },
          "metadata": {
            "tags": []
          },
          "execution_count": 29
        }
      ]
    },
    {
      "cell_type": "code",
      "metadata": {
        "id": "LYzPhIrQLK5n",
        "colab": {
          "base_uri": "https://localhost:8080/",
          "height": 36
        },
        "outputId": "7ff88062-7653-4a9f-c053-915e51119321"
      },
      "source": [
        "#3\n",
        "mystr2 = mystr[-5:]+ mystr[4:-5] + mystr[:4]\n",
        "mystr2"
      ],
      "execution_count": null,
      "outputs": [
        {
          "output_type": "execute_result",
          "data": {
            "application/vnd.google.colaboratory.intrinsic+json": {
              "type": "string"
            },
            "text/plain": [
              "'worldo hell'"
            ]
          },
          "metadata": {
            "tags": []
          },
          "execution_count": 69
        }
      ]
    },
    {
      "cell_type": "code",
      "metadata": {
        "id": "2FxJEXCKSghy"
      },
      "source": [
        "#4\n",
        "mystr.replace('h', 'b')"
      ],
      "execution_count": null,
      "outputs": []
    }
  ]
}